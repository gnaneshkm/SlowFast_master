{
 "cells": [
  {
   "cell_type": "code",
   "execution_count": 3,
   "metadata": {},
   "outputs": [],
   "source": [
    "from xmlr import xmlparse\n",
    "from xmlr import xmliter\n",
    "from xmlr import xmliter, XMLParsingMethods\n",
    "import xml.etree.ElementTree\n",
    "count=0\n",
    "images=[]\n",
    "\n",
    "for d in xmliter('/home/gnanesh/Downloads/theodore_plus_training.xml','image'):\n",
    "        for k, v in d.items():\n",
    "            if k == '@name':\n",
    "                images.append(v)\n",
    "            if k == 'box':\n",
    "                for x in v:\n",
    "                    if x[\"@label\"] == 'person':\n",
    "                        print (v )"
   ]
  },
  {
   "cell_type": "code",
   "execution_count": 5,
   "metadata": {
    "pycharm": {
     "name": "#%%\n"
    }
   },
   "outputs": [
    {
     "data": {
      "text/plain": [
       "['/mnt/data/tschec/theodore_plus/0000105_img.png',\n",
       " '/mnt/data/tschec/theodore_plus/0000106_img.png',\n",
       " '/mnt/data/tschec/theodore_plus/0000107_img.png',\n",
       " '/mnt/data/tschec/theodore_plus/0000108_img.png',\n",
       " '/mnt/data/tschec/theodore_plus/0000109_img.png',\n",
       " '/mnt/data/tschec/theodore_plus/0000110_img.png',\n",
       " '/mnt/data/tschec/theodore_plus/0000111_img.png',\n",
       " '/mnt/data/tschec/theodore_plus/0000112_img.png',\n",
       " '/mnt/data/tschec/theodore_plus/0000113_img.png',\n",
       " '/mnt/data/tschec/theodore_plus/0000114_img.png',\n",
       " '/mnt/data/tschec/theodore_plus/0000115_img.png',\n",
       " '/mnt/data/tschec/theodore_plus/0000116_img.png',\n",
       " '/mnt/data/tschec/theodore_plus/0000117_img.png',\n",
       " '/mnt/data/tschec/theodore_plus/0000118_img.png',\n",
       " '/mnt/data/tschec/theodore_plus/0000119_img.png',\n",
       " '/mnt/data/tschec/theodore_plus/0000120_img.png',\n",
       " '/mnt/data/tschec/theodore_plus/0000121_img.png',\n",
       " '/mnt/data/tschec/theodore_plus/0000122_img.png',\n",
       " '/mnt/data/tschec/theodore_plus/0000123_img.png',\n",
       " '/mnt/data/tschec/theodore_plus/0000124_img.png',\n",
       " '/mnt/data/tschec/theodore_plus/0000125_img.png',\n",
       " '/mnt/data/tschec/theodore_plus/0000126_img.png',\n",
       " '/mnt/data/tschec/theodore_plus/0000127_img.png',\n",
       " '/mnt/data/tschec/theodore_plus/0000128_img.png',\n",
       " '/mnt/data/tschec/theodore_plus/0000129_img.png',\n",
       " '/mnt/data/tschec/theodore_plus/0000130_img.png',\n",
       " '/mnt/data/tschec/theodore_plus/0000131_img.png',\n",
       " '/mnt/data/tschec/theodore_plus/0000132_img.png',\n",
       " '/mnt/data/tschec/theodore_plus/0000133_img.png',\n",
       " '/mnt/data/tschec/theodore_plus/0000134_img.png',\n",
       " '/mnt/data/tschec/theodore_plus/0000135_img.png',\n",
       " '/mnt/data/tschec/theodore_plus/0000136_img.png',\n",
       " '/mnt/data/tschec/theodore_plus/0000137_img.png',\n",
       " '/mnt/data/tschec/theodore_plus/0000138_img.png',\n",
       " '/mnt/data/tschec/theodore_plus/0000139_img.png',\n",
       " '/mnt/data/tschec/theodore_plus/0000140_img.png',\n",
       " '/mnt/data/tschec/theodore_plus/0000141_img.png',\n",
       " '/mnt/data/tschec/theodore_plus/0000142_img.png',\n",
       " '/mnt/data/tschec/theodore_plus/0000143_img.png',\n",
       " '/mnt/data/tschec/theodore_plus/0000144_img.png',\n",
       " '/mnt/data/tschec/theodore_plus/0000145_img.png',\n",
       " '/mnt/data/tschec/theodore_plus/0000146_img.png',\n",
       " '/mnt/data/tschec/theodore_plus/0000147_img.png',\n",
       " '/mnt/data/tschec/theodore_plus/0000148_img.png',\n",
       " '/mnt/data/tschec/theodore_plus/0000149_img.png',\n",
       " '/mnt/data/tschec/theodore_plus/0000150_img.png',\n",
       " '/mnt/data/tschec/theodore_plus/0000151_img.png',\n",
       " '/mnt/data/tschec/theodore_plus/0000152_img.png',\n",
       " '/mnt/data/tschec/theodore_plus/0000153_img.png',\n",
       " '/mnt/data/tschec/theodore_plus/0000154_img.png',\n",
       " '/mnt/data/tschec/theodore_plus/0000155_img.png',\n",
       " '/mnt/data/tschec/theodore_plus/0000156_img.png',\n",
       " '/mnt/data/tschec/theodore_plus/0000157_img.png',\n",
       " '/mnt/data/tschec/theodore_plus/0000158_img.png',\n",
       " '/mnt/data/tschec/theodore_plus/0000159_img.png',\n",
       " '/mnt/data/tschec/theodore_plus/0000160_img.png',\n",
       " '/mnt/data/tschec/theodore_plus/0000161_img.png',\n",
       " '/mnt/data/tschec/theodore_plus/0000162_img.png',\n",
       " '/mnt/data/tschec/theodore_plus/0000163_img.png',\n",
       " '/mnt/data/tschec/theodore_plus/0000164_img.png',\n",
       " '/mnt/data/tschec/theodore_plus/0000165_img.png',\n",
       " '/mnt/data/tschec/theodore_plus/0000166_img.png',\n",
       " '/mnt/data/tschec/theodore_plus/0000167_img.png',\n",
       " '/mnt/data/tschec/theodore_plus/0000168_img.png',\n",
       " '/mnt/data/tschec/theodore_plus/0000169_img.png',\n",
       " '/mnt/data/tschec/theodore_plus/0000170_img.png',\n",
       " '/mnt/data/tschec/theodore_plus/0000171_img.png',\n",
       " '/mnt/data/tschec/theodore_plus/0000172_img.png',\n",
       " '/mnt/data/tschec/theodore_plus/0000173_img.png',\n",
       " '/mnt/data/tschec/theodore_plus/0000174_img.png',\n",
       " '/mnt/data/tschec/theodore_plus/0000175_img.png',\n",
       " '/mnt/data/tschec/theodore_plus/0000176_img.png',\n",
       " '/mnt/data/tschec/theodore_plus/0000177_img.png',\n",
       " '/mnt/data/tschec/theodore_plus/0000178_img.png',\n",
       " '/mnt/data/tschec/theodore_plus/0000179_img.png',\n",
       " '/mnt/data/tschec/theodore_plus/0000180_img.png',\n",
       " '/mnt/data/tschec/theodore_plus/0000181_img.png',\n",
       " '/mnt/data/tschec/theodore_plus/0000182_img.png',\n",
       " '/mnt/data/tschec/theodore_plus/0000183_img.png',\n",
       " '/mnt/data/tschec/theodore_plus/0000184_img.png',\n",
       " '/mnt/data/tschec/theodore_plus/0000185_img.png',\n",
       " '/mnt/data/tschec/theodore_plus/0000186_img.png',\n",
       " '/mnt/data/tschec/theodore_plus/0000187_img.png',\n",
       " '/mnt/data/tschec/theodore_plus/0000188_img.png',\n",
       " '/mnt/data/tschec/theodore_plus/0000189_img.png',\n",
       " '/mnt/data/tschec/theodore_plus/0000190_img.png',\n",
       " '/mnt/data/tschec/theodore_plus/0000191_img.png',\n",
       " '/mnt/data/tschec/theodore_plus/0000192_img.png',\n",
       " '/mnt/data/tschec/theodore_plus/0000193_img.png',\n",
       " '/mnt/data/tschec/theodore_plus/0000194_img.png',\n",
       " '/mnt/data/tschec/theodore_plus/0000195_img.png',\n",
       " '/mnt/data/tschec/theodore_plus/0000196_img.png',\n",
       " '/mnt/data/tschec/theodore_plus/0000197_img.png',\n",
       " '/mnt/data/tschec/theodore_plus/0000198_img.png',\n",
       " '/mnt/data/tschec/theodore_plus/0000199_img.png',\n",
       " '/mnt/data/tschec/theodore_plus/0000200_img.png',\n",
       " '/mnt/data/tschec/theodore_plus/0000201_img.png',\n",
       " '/mnt/data/tschec/theodore_plus/0000202_img.png',\n",
       " '/mnt/data/tschec/theodore_plus/0000203_img.png',\n",
       " '/mnt/data/tschec/theodore_plus/0000204_img.png']"
      ]
     },
     "execution_count": 5,
     "metadata": {},
     "output_type": "execute_result"
    }
   ],
   "source": [
    "\n"
   ]
  },
  {
   "cell_type": "code",
   "execution_count": null,
   "metadata": {
    "pycharm": {
     "name": "#%%\n"
    }
   },
   "outputs": [],
   "source": []
  },
  {
   "cell_type": "code",
   "execution_count": null,
   "metadata": {},
   "outputs": [],
   "source": []
  }
 ],
 "metadata": {
  "kernelspec": {
   "display_name": "Python 3",
   "language": "python",
   "name": "python3"
  },
  "language_info": {
   "codemirror_mode": {
    "name": "ipython",
    "version": 3
   },
   "file_extension": ".py",
   "mimetype": "text/x-python",
   "name": "python",
   "nbconvert_exporter": "python",
   "pygments_lexer": "ipython3",
   "version": "3.6.10"
  },
  "pycharm": {
   "stem_cell": {
    "cell_type": "raw",
    "metadata": {
     "collapsed": false
    },
    "source": []
   }
  }
 },
 "nbformat": 4,
 "nbformat_minor": 1
}
