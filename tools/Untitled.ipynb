{
 "cells": [
  {
   "cell_type": "code",
   "execution_count": 1,
   "metadata": {},
   "outputs": [],
   "source": [
    "import pandas as pd"
   ]
  },
  {
   "cell_type": "code",
   "execution_count": 4,
   "metadata": {},
   "outputs": [],
   "source": [
    "df_detections = pd.read_csv('detections_latest.csv', header=None)"
   ]
  },
  {
   "cell_type": "code",
   "execution_count": 5,
   "metadata": {},
   "outputs": [
    {
     "data": {
      "text/html": [
       "<div>\n",
       "<style scoped>\n",
       "    .dataframe tbody tr th:only-of-type {\n",
       "        vertical-align: middle;\n",
       "    }\n",
       "\n",
       "    .dataframe tbody tr th {\n",
       "        vertical-align: top;\n",
       "    }\n",
       "\n",
       "    .dataframe thead th {\n",
       "        text-align: right;\n",
       "    }\n",
       "</style>\n",
       "<table border=\"1\" class=\"dataframe\">\n",
       "  <thead>\n",
       "    <tr style=\"text-align: right;\">\n",
       "      <th></th>\n",
       "      <th>0</th>\n",
       "      <th>1</th>\n",
       "      <th>2</th>\n",
       "      <th>3</th>\n",
       "      <th>4</th>\n",
       "      <th>5</th>\n",
       "      <th>6</th>\n",
       "      <th>7</th>\n",
       "    </tr>\n",
       "  </thead>\n",
       "  <tbody>\n",
       "    <tr>\n",
       "      <th>0</th>\n",
       "      <td>images</td>\n",
       "      <td>0</td>\n",
       "      <td>0.799</td>\n",
       "      <td>0.525</td>\n",
       "      <td>0.886</td>\n",
       "      <td>0.599</td>\n",
       "      <td>1</td>\n",
       "      <td>1.0000</td>\n",
       "    </tr>\n",
       "    <tr>\n",
       "      <th>1</th>\n",
       "      <td>images</td>\n",
       "      <td>0</td>\n",
       "      <td>0.799</td>\n",
       "      <td>0.525</td>\n",
       "      <td>0.886</td>\n",
       "      <td>0.599</td>\n",
       "      <td>2</td>\n",
       "      <td>0.0000</td>\n",
       "    </tr>\n",
       "    <tr>\n",
       "      <th>2</th>\n",
       "      <td>images</td>\n",
       "      <td>0</td>\n",
       "      <td>0.799</td>\n",
       "      <td>0.525</td>\n",
       "      <td>0.886</td>\n",
       "      <td>0.599</td>\n",
       "      <td>3</td>\n",
       "      <td>0.0000</td>\n",
       "    </tr>\n",
       "    <tr>\n",
       "      <th>3</th>\n",
       "      <td>images</td>\n",
       "      <td>0</td>\n",
       "      <td>0.799</td>\n",
       "      <td>0.525</td>\n",
       "      <td>0.886</td>\n",
       "      <td>0.599</td>\n",
       "      <td>4</td>\n",
       "      <td>0.0000</td>\n",
       "    </tr>\n",
       "    <tr>\n",
       "      <th>4</th>\n",
       "      <td>images</td>\n",
       "      <td>0</td>\n",
       "      <td>0.801</td>\n",
       "      <td>0.814</td>\n",
       "      <td>0.819</td>\n",
       "      <td>0.850</td>\n",
       "      <td>1</td>\n",
       "      <td>0.9997</td>\n",
       "    </tr>\n",
       "  </tbody>\n",
       "</table>\n",
       "</div>"
      ],
      "text/plain": [
       "        0  1      2      3      4      5  6       7\n",
       "0  images  0  0.799  0.525  0.886  0.599  1  1.0000\n",
       "1  images  0  0.799  0.525  0.886  0.599  2  0.0000\n",
       "2  images  0  0.799  0.525  0.886  0.599  3  0.0000\n",
       "3  images  0  0.799  0.525  0.886  0.599  4  0.0000\n",
       "4  images  0  0.801  0.814  0.819  0.850  1  0.9997"
      ]
     },
     "execution_count": 5,
     "metadata": {},
     "output_type": "execute_result"
    }
   ],
   "source": [
    "df_detections.head()"
   ]
  },
  {
   "cell_type": "code",
   "execution_count": 6,
   "metadata": {},
   "outputs": [
    {
     "name": "stdout",
     "output_type": "stream",
     "text": [
      "<class 'pandas.core.frame.DataFrame'>\n",
      "RangeIndex: 48 entries, 0 to 47\n",
      "Data columns (total 8 columns):\n",
      " #   Column  Non-Null Count  Dtype  \n",
      "---  ------  --------------  -----  \n",
      " 0   0       48 non-null     object \n",
      " 1   1       48 non-null     int64  \n",
      " 2   2       48 non-null     float64\n",
      " 3   3       48 non-null     float64\n",
      " 4   4       48 non-null     float64\n",
      " 5   5       48 non-null     float64\n",
      " 6   6       48 non-null     int64  \n",
      " 7   7       48 non-null     float64\n",
      "dtypes: float64(5), int64(2), object(1)\n",
      "memory usage: 3.1+ KB\n"
     ]
    }
   ],
   "source": [
    "df_detections.info()"
   ]
  },
  {
   "cell_type": "code",
   "execution_count": null,
   "metadata": {},
   "outputs": [],
   "source": []
  }
 ],
 "metadata": {
  "kernelspec": {
   "display_name": "Python 3",
   "language": "python",
   "name": "python3"
  },
  "language_info": {
   "codemirror_mode": {
    "name": "ipython",
    "version": 3
   },
   "file_extension": ".py",
   "mimetype": "text/x-python",
   "name": "python",
   "nbconvert_exporter": "python",
   "pygments_lexer": "ipython3",
   "version": "3.9.1"
  }
 },
 "nbformat": 4,
 "nbformat_minor": 4
}
