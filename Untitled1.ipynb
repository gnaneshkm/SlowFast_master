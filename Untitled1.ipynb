{
 "cells": [
  {
   "cell_type": "code",
   "execution_count": 1,
   "metadata": {},
   "outputs": [
    {
     "ename": "UnpicklingError",
     "evalue": "invalid load key, '\\x00'.",
     "output_type": "error",
     "traceback": [
      "\u001b[0;31m---------------------------------------------------------------------------\u001b[0m",
      "\u001b[0;31mUnpicklingError\u001b[0m                           Traceback (most recent call last)",
      "\u001b[0;32m<ipython-input-1-ad3ca78103c6>\u001b[0m in \u001b[0;36m<module>\u001b[0;34m\u001b[0m\n\u001b[1;32m      5\u001b[0m     \u001b[0mboxes\u001b[0m\u001b[0;34m=\u001b[0m \u001b[0mpickle\u001b[0m\u001b[0;34m.\u001b[0m\u001b[0mload\u001b[0m\u001b[0;34m(\u001b[0m\u001b[0mf\u001b[0m\u001b[0;34m)\u001b[0m\u001b[0;34m\u001b[0m\u001b[0;34m\u001b[0m\u001b[0m\n\u001b[1;32m      6\u001b[0m \u001b[0;32mwith\u001b[0m \u001b[0mopen\u001b[0m\u001b[0;34m(\u001b[0m\u001b[0;34m'/home/gnk/ava2/results/imgs.pkl'\u001b[0m\u001b[0;34m,\u001b[0m \u001b[0;34m'rb'\u001b[0m\u001b[0;34m)\u001b[0m \u001b[0;32mas\u001b[0m \u001b[0mf\u001b[0m\u001b[0;34m:\u001b[0m\u001b[0;34m\u001b[0m\u001b[0;34m\u001b[0m\u001b[0m\n\u001b[0;32m----> 7\u001b[0;31m     \u001b[0mimage\u001b[0m \u001b[0;34m=\u001b[0m \u001b[0mpickle\u001b[0m\u001b[0;34m.\u001b[0m\u001b[0mload\u001b[0m\u001b[0;34m(\u001b[0m\u001b[0mf\u001b[0m\u001b[0;34m)\u001b[0m\u001b[0;34m\u001b[0m\u001b[0;34m\u001b[0m\u001b[0m\n\u001b[0m\u001b[1;32m      8\u001b[0m \u001b[0mimage\u001b[0m\u001b[0;34m[\u001b[0m\u001b[0;36m0\u001b[0m\u001b[0;34m]\u001b[0m\u001b[0;34m.\u001b[0m\u001b[0mshape\u001b[0m\u001b[0;34m\u001b[0m\u001b[0;34m\u001b[0m\u001b[0m\n",
      "\u001b[0;31mUnpicklingError\u001b[0m: invalid load key, '\\x00'."
     ]
    }
   ],
   "source": [
    "import pickle\n",
    "with open('/home/gnk/ava2/results/imgs_paths.pkl', 'rb') as f:\n",
    "    image_paths = pickle.load(f)\n",
    "with open('/home/gnk/ava2/results/boxes.pkl', 'rb') as f:\n",
    "    boxes= pickle.load(f)\n",
    "with open('/home/gnk/ava2/results/imgs.pkl', 'rb') as f:\n",
    "    image = pickle.load(f)\n",
    "image[0].shape"
   ]
  },
  {
   "cell_type": "code",
   "execution_count": null,
   "metadata": {},
   "outputs": [],
   "source": [
    "\n"
   ]
  },
  {
   "cell_type": "code",
   "execution_count": null,
   "metadata": {},
   "outputs": [],
   "source": [
    "import logging\n",
    "import numpy as np\n",
    "import torch\n",
    "import cv2\n",
    "import matplotlib.pyplot as plt\n",
    "import matplotlib.patches as patches\n",
    "import matplotlib.patheffects as PathEffects\n",
    "\n"
   ]
  },
  {
   "cell_type": "code",
   "execution_count": 7,
   "metadata": {},
   "outputs": [
    {
     "data": {
      "text/plain": [
       "array([[ 939.,  569., 1216.,  672.]])"
      ]
     },
     "execution_count": 7,
     "metadata": {},
     "output_type": "execute_result"
    }
   ],
   "source": [
    "height, width, _ = image[0].shape\n",
    "boxes[:, [0, 2]] *= width\n",
    "boxes[:, [1, 3]] *= height\n",
    "boxes"
   ]
  },
  {
   "cell_type": "code",
   "execution_count": 8,
   "metadata": {},
   "outputs": [],
   "source": [
    "boxes[:, [0, 2]] = np.minimum(width - 1.0, np.maximum(0.0, boxes[:, [0, 2]]))\n",
    "boxes[:, [1, 3]] = np.minimum(height - 1.0, np.maximum(0.0, boxes[:, [1, 3]]))\n"
   ]
  },
  {
   "cell_type": "code",
   "execution_count": 9,
   "metadata": {},
   "outputs": [
    {
     "data": {
      "text/plain": [
       "array([[ 939.,  569., 1216.,  672.]])"
      ]
     },
     "execution_count": 9,
     "metadata": {},
     "output_type": "execute_result"
    }
   ],
   "source": [
    "boxes"
   ]
  },
  {
   "cell_type": "code",
   "execution_count": 10,
   "metadata": {},
   "outputs": [],
   "source": [
    " boxes = [boxes]"
   ]
  },
  {
   "cell_type": "code",
   "execution_count": 11,
   "metadata": {},
   "outputs": [
    {
     "data": {
      "text/plain": [
       "3"
      ]
     },
     "execution_count": 11,
     "metadata": {},
     "output_type": "execute_result"
    }
   ],
   "source": [
    "len(image[0].shape)"
   ]
  },
  {
   "cell_type": "code",
   "execution_count": 22,
   "metadata": {},
   "outputs": [
    {
     "data": {
      "text/plain": [
       "[array([[1279., 1279., 1279., 1279.],\n",
       "        [1279., 1279., 1279., 1279.],\n",
       "        [1279., 1279., 1279., 1279.]])]"
      ]
     },
     "execution_count": 22,
     "metadata": {},
     "output_type": "execute_result"
    }
   ],
   "source": [
    "for p in file_names[0:10]:\n",
    "    index = p\n",
    "    label = labels[index]\n",
    "    im = plt.imread(df_my_path.path[index])\n",
    "    print (df_my_path.path[index])\n",
    "    fig, ax = plt.subplots()\n",
    "    for i in range(len(label)):\n",
    "        y = label[i][0][1]\n",
    "        x = label[i][0][0]\n",
    "        width = label[i][0][2] - label[i][0][0]\n",
    "        height = label[i][0][3] - label[i][0][1]\n",
    "        rect = patches.Rectangle((x*im.shape[1], y*im.shape[0]),width*im.shape[1], height*im.shape[0], linewidth=1, edgecolor='r', facecolor='none')\n",
    "\n",
    "        # Add the patch to the Axes\n",
    "        ax.add_patch(rect)\n",
    "    ax.imshow(im)\n",
    "    plt.show()"
   ]
  },
  {
   "cell_type": "code",
   "execution_count": 23,
   "metadata": {},
   "outputs": [],
   "source": [
    "def random_short_side_scale_jitter_list(images, min_size, max_size, boxes=None):\n",
    "    \"\"\"\n",
    "    Perform a spatial short scale jittering on the given images and\n",
    "    corresponding boxes.\n",
    "    Args:\n",
    "        images (list): list of images to perform scale jitter. Dimension is\n",
    "            `height` x `width` x `channel`.\n",
    "        min_size (int): the minimal size to scale the frames.\n",
    "        max_size (int): the maximal size to scale the frames.\n",
    "        boxes (list): optional. Corresponding boxes to images. Dimension is\n",
    "            `num boxes` x 4.\n",
    "    Returns:\n",
    "        (list): the list of scaled images with dimension of\n",
    "            `new height` x `new width` x `channel`.\n",
    "        (ndarray or None): the scaled boxes with dimension of\n",
    "            `num boxes` x 4.\n",
    "    \"\"\"\n",
    "    size = int(round(1.0 / np.random.uniform(1.0 / max_size, 1.0 / min_size)))\n",
    "\n",
    "    height = images[0].shape[0]\n",
    "    width = images[0].shape[1]\n",
    "    if (width <= height and width == size) or (\n",
    "        height <= width and height == size\n",
    "    ):\n",
    "        return images, boxes\n",
    "    new_width = size\n",
    "    new_height = size\n",
    "    if width < height:\n",
    "        new_height = int(math.floor((float(height) / width) * size))\n",
    "        if boxes is not None:\n",
    "            boxes = [\n",
    "                proposal * float(new_height) / height for proposal in boxes\n",
    "            ]\n",
    "    else:\n",
    "        new_width = int(math.floor((float(width) / height) * size))\n",
    "        if boxes is not None:\n",
    "            boxes = [proposal * float(new_width) / width for proposal in boxes]\n",
    "    return (\n",
    "        [\n",
    "            cv2.resize(\n",
    "                image, (new_width, new_height), interpolation=cv2.INTER_LINEAR\n",
    "            ).astype(np.float32)\n",
    "            for image in images\n",
    "        ],\n",
    "        boxes,\n",
    "    )\n"
   ]
  },
  {
   "cell_type": "code",
   "execution_count": null,
   "metadata": {},
   "outputs": [],
   "source": []
  }
 ],
 "metadata": {
  "kernelspec": {
   "display_name": "Python 3",
   "language": "python",
   "name": "python3"
  },
  "language_info": {
   "codemirror_mode": {
    "name": "ipython",
    "version": 3
   },
   "file_extension": ".py",
   "mimetype": "text/x-python",
   "name": "python",
   "nbconvert_exporter": "python",
   "pygments_lexer": "ipython3",
   "version": "3.9.1"
  }
 },
 "nbformat": 4,
 "nbformat_minor": 2
}
