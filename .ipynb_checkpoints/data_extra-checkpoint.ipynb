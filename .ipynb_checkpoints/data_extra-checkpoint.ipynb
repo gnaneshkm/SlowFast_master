{
 "cells": [
  {
   "cell_type": "code",
   "execution_count": null,
   "metadata": {},
   "outputs": [],
   "source": [
    "from xmlr import xmlparse\n",
    "from xmlr import xmliter\n",
    "from xmlr import xmliter, XMLParsingMethods\n",
    "import xml.etree.ElementTree\n",
    "count=0\n",
    "images=[]\n",
    "\n",
    "for d in xmliter('/home/gnanesh/Downloads/theodore_plus_training.xml','image'):\n",
    "        for k, v in d.items():\n",
    "            if k == '@name':\n",
    "                images.append(v)"
   ]
  },
  {
   "cell_type": "code",
   "execution_count": null,
   "metadata": {
    "pycharm": {
     "name": "#%%\n"
    }
   },
   "outputs": [],
   "source": [
    "images[0:6]\n"
   ]
  },
  {
   "cell_type": "code",
   "execution_count": null,
   "metadata": {},
   "outputs": [],
   "source": []
  }
 ],
 "metadata": {
  "kernelspec": {
   "display_name": "Python 3",
   "language": "python",
   "name": "python3"
  },
  "language_info": {
   "codemirror_mode": {
    "name": "ipython",
    "version": 3
   },
   "file_extension": ".py",
   "mimetype": "text/x-python",
   "name": "python",
   "nbconvert_exporter": "python",
   "pygments_lexer": "ipython3",
   "version": "3.6.10"
  },
  "pycharm": {
   "stem_cell": {
    "cell_type": "raw",
    "metadata": {
     "collapsed": false
    },
    "source": []
   }
  }
 },
 "nbformat": 4,
 "nbformat_minor": 1
}
